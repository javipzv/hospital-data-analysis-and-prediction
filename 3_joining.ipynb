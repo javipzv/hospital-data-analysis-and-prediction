{
 "cells": [
  {
   "cell_type": "code",
   "execution_count": 47,
   "metadata": {},
   "outputs": [],
   "source": [
    "import pandas as pd\n",
    "import numpy as np"
   ]
  },
  {
   "cell_type": "code",
   "execution_count": 48,
   "metadata": {},
   "outputs": [],
   "source": [
    "h1 = pd.read_csv('data/hospital1_preprocessed.csv')\n",
    "h2 = pd.read_csv('data/hospital2_preprocessed.csv')"
   ]
  },
  {
   "cell_type": "code",
   "execution_count": 49,
   "metadata": {},
   "outputs": [
    {
     "name": "stdout",
     "output_type": "stream",
     "text": [
      "Columnas en 'hospital1':  60\n",
      "Columnas en 'hospital2':  57\n"
     ]
    }
   ],
   "source": [
    "print(\"Columnas en 'hospital1': \", len(h1.columns))\n",
    "print(\"Columnas en 'hospital2': \", len(h2.columns))"
   ]
  },
  {
   "cell_type": "markdown",
   "metadata": {},
   "source": [
    "Veamos qué columnas son las diferentes"
   ]
  },
  {
   "cell_type": "code",
   "execution_count": 50,
   "metadata": {},
   "outputs": [
    {
     "data": {
      "text/plain": [
       "Index(['country_Azerbaijan', 'country_Other', 'country_T.C.',\n",
       "       'country_Turkmenistan', 'country_United Kingdom (Great Britain)',\n",
       "       'country_Uzbekistan', 'age', 'gender__k_female__e_male', 'station_Fall',\n",
       "       'station_Spring', 'station_Summer', 'station_Winter',\n",
       "       'fever_temperature', 'oxygen_saturation', 'history_of_fever', 'cough',\n",
       "       'sore_throat', 'runny_nose', 'wheezing', 'shortness_of_breath',\n",
       "       'lower_chest_wall_indrawing', 'chest_pain', 'conjunctivitis',\n",
       "       'lymphadenopathy', 'headache', 'loss_of_smell', 'loss_of_taste',\n",
       "       'fatigue_malaise', 'anorexia', 'altered_consciousness_confusion',\n",
       "       'muscle_aches', 'joint_pain', 'inability_to_walk', 'abdominal_pain',\n",
       "       'diarrhoea', 'vomiting_nausea', 'skin_rash', 'bleeding',\n",
       "       'other_symptoms', 'chronic_cardiac_disease', 'hypertension',\n",
       "       'chronic_pulmonary_disease', 'asthma', 'chronic_kidney_disease',\n",
       "       'obesity', 'liver_disease', 'asplenia', 'chronic_neurological_disorder',\n",
       "       'malignant_neoplasm', 'chronic_hematologic_disease', 'aids_hiv',\n",
       "       'diabetes_mellitus_type_1', 'diabetes_mellitus_type_2',\n",
       "       'rheumatologic_disorder', 'dementia', 'tuberculosis', 'smoking',\n",
       "       'other_risks', 'pcr_result', 'previous_positives'],\n",
       "      dtype='object')"
      ]
     },
     "execution_count": 50,
     "metadata": {},
     "output_type": "execute_result"
    }
   ],
   "source": [
    "h1.columns"
   ]
  },
  {
   "cell_type": "code",
   "execution_count": 51,
   "metadata": {},
   "outputs": [
    {
     "data": {
      "text/plain": [
       "Index(['country_Azerbaijan', 'country_Other', 'country_T.C.', 'age', 'sex',\n",
       "       'station_Fall', 'station_Spring', 'station_Summer', 'station_Winter',\n",
       "       'fever_temperature', 'oxygen_saturation', 'history_of_fever', 'cough',\n",
       "       'sore_throat', 'runny_nose', 'wheezing', 'shortness_of_breath',\n",
       "       'lower_chest_wall_indrawing', 'chest_pain', 'conjunctivitis',\n",
       "       'lymphadenopathy', 'headache', 'loss_of_smell', 'loss_of_taste',\n",
       "       'fatigue_malaise', 'anorexia', 'altered_consciousness_confusion',\n",
       "       'muscle_aches', 'joint_pain', 'inability_to_walk', 'abdominal_pain',\n",
       "       'diarrhoea', 'vomiting_nausea', 'skin_rash', 'bleeding',\n",
       "       'other_symptoms', 'chronic_cardiac_disease', 'hypertension',\n",
       "       'chronic_pulmonary_disease', 'asthma', 'chronic_kidney_disease',\n",
       "       'obesity', 'liver_disease', 'asplenia', 'chronic_neurological_disorder',\n",
       "       'malignant_neoplasm', 'chronic_hematologic_disease', 'aids_hiv',\n",
       "       'diabetes_mellitus_type_1', 'diabetes_mellitus_type_2',\n",
       "       'rheumatologic_disorder', 'dementia', 'tuberculosis', 'smoking',\n",
       "       'other_risks', 'pcr_result', 'previous_positives'],\n",
       "      dtype='object')"
      ]
     },
     "execution_count": 51,
     "metadata": {},
     "output_type": "execute_result"
    }
   ],
   "source": [
    "h2.columns"
   ]
  },
  {
   "cell_type": "markdown",
   "metadata": {},
   "source": [
    "Observando las columnas, vemos que las únicas diferencias se han producido en la nacionalidad y género. En el caso de la nacionalidad existen 3 países más en los datos del primer hospital. Es por ello que nos quedaremos solamente con los países filtrados del segundo hospital. En el primer conjunto añadiremos las de los otros países a \"country_Other\"."
   ]
  },
  {
   "cell_type": "code",
   "execution_count": 52,
   "metadata": {},
   "outputs": [],
   "source": [
    "h1['country_Other'] = h1['country_Turkmenistan'] + h1['country_United Kingdom (Great Britain)'] + h1['country_Uzbekistan']\n",
    "h1.drop(['country_Turkmenistan', 'country_United Kingdom (Great Britain)', 'country_Uzbekistan'], axis=1, inplace=True)"
   ]
  },
  {
   "cell_type": "code",
   "execution_count": 53,
   "metadata": {},
   "outputs": [
    {
     "name": "stdout",
     "output_type": "stream",
     "text": [
      "Columnas en 'hospital1':  57\n",
      "Columnas en 'hospital2':  57\n"
     ]
    }
   ],
   "source": [
    "print(\"Columnas en 'hospital1': \", len(h1.columns))\n",
    "print(\"Columnas en 'hospital2': \", len(h2.columns))"
   ]
  },
  {
   "cell_type": "markdown",
   "metadata": {},
   "source": [
    "Por otro lado, debemos utilizar el mismo nombre en las columnas de género en ambos datasets."
   ]
  },
  {
   "cell_type": "code",
   "execution_count": 54,
   "metadata": {},
   "outputs": [],
   "source": [
    "# change the name of the column gender__k_female__e_male in h1\n",
    "mapper = {'gender__k_female__e_male': 'sex'}\n",
    "h1.rename(columns=mapper, inplace=True)"
   ]
  },
  {
   "cell_type": "markdown",
   "metadata": {},
   "source": [
    "Ahora sí, tienen las mismas columnas y con los mismos nombres. Podemos juntar ambos datasets."
   ]
  },
  {
   "cell_type": "code",
   "execution_count": 55,
   "metadata": {},
   "outputs": [],
   "source": [
    "hospital_data = pd.concat([h1, h2], axis=0)"
   ]
  },
  {
   "cell_type": "code",
   "execution_count": 56,
   "metadata": {},
   "outputs": [
    {
     "data": {
      "text/plain": [
       "0"
      ]
     },
     "execution_count": 56,
     "metadata": {},
     "output_type": "execute_result"
    }
   ],
   "source": [
    "hospital_data.isna().sum().sum()"
   ]
  },
  {
   "cell_type": "markdown",
   "metadata": {},
   "source": [
    "## Veamos nuestro conjunto"
   ]
  },
  {
   "cell_type": "code",
   "execution_count": 57,
   "metadata": {},
   "outputs": [
    {
     "data": {
      "text/html": [
       "<div>\n",
       "<style scoped>\n",
       "    .dataframe tbody tr th:only-of-type {\n",
       "        vertical-align: middle;\n",
       "    }\n",
       "\n",
       "    .dataframe tbody tr th {\n",
       "        vertical-align: top;\n",
       "    }\n",
       "\n",
       "    .dataframe thead th {\n",
       "        text-align: right;\n",
       "    }\n",
       "</style>\n",
       "<table border=\"1\" class=\"dataframe\">\n",
       "  <thead>\n",
       "    <tr style=\"text-align: right;\">\n",
       "      <th></th>\n",
       "      <th>country_Azerbaijan</th>\n",
       "      <th>country_Other</th>\n",
       "      <th>country_T.C.</th>\n",
       "      <th>age</th>\n",
       "      <th>sex</th>\n",
       "      <th>station_Fall</th>\n",
       "      <th>station_Spring</th>\n",
       "      <th>station_Summer</th>\n",
       "      <th>station_Winter</th>\n",
       "      <th>fever_temperature</th>\n",
       "      <th>...</th>\n",
       "      <th>aids_hiv</th>\n",
       "      <th>diabetes_mellitus_type_1</th>\n",
       "      <th>diabetes_mellitus_type_2</th>\n",
       "      <th>rheumatologic_disorder</th>\n",
       "      <th>dementia</th>\n",
       "      <th>tuberculosis</th>\n",
       "      <th>smoking</th>\n",
       "      <th>other_risks</th>\n",
       "      <th>pcr_result</th>\n",
       "      <th>previous_positives</th>\n",
       "    </tr>\n",
       "  </thead>\n",
       "  <tbody>\n",
       "    <tr>\n",
       "      <th>0</th>\n",
       "      <td>0.0</td>\n",
       "      <td>0.0</td>\n",
       "      <td>1.0</td>\n",
       "      <td>47.0</td>\n",
       "      <td>1</td>\n",
       "      <td>0.0</td>\n",
       "      <td>0.0</td>\n",
       "      <td>0.0</td>\n",
       "      <td>1.0</td>\n",
       "      <td>38.2</td>\n",
       "      <td>...</td>\n",
       "      <td>0.0</td>\n",
       "      <td>0.0</td>\n",
       "      <td>0.0</td>\n",
       "      <td>0.0</td>\n",
       "      <td>0.0</td>\n",
       "      <td>0</td>\n",
       "      <td>0</td>\n",
       "      <td>0</td>\n",
       "      <td>1</td>\n",
       "      <td>0</td>\n",
       "    </tr>\n",
       "    <tr>\n",
       "      <th>1</th>\n",
       "      <td>0.0</td>\n",
       "      <td>0.0</td>\n",
       "      <td>1.0</td>\n",
       "      <td>23.0</td>\n",
       "      <td>1</td>\n",
       "      <td>0.0</td>\n",
       "      <td>0.0</td>\n",
       "      <td>0.0</td>\n",
       "      <td>1.0</td>\n",
       "      <td>37.0</td>\n",
       "      <td>...</td>\n",
       "      <td>0.0</td>\n",
       "      <td>0.0</td>\n",
       "      <td>0.0</td>\n",
       "      <td>0.0</td>\n",
       "      <td>0.0</td>\n",
       "      <td>0</td>\n",
       "      <td>0</td>\n",
       "      <td>0</td>\n",
       "      <td>1</td>\n",
       "      <td>0</td>\n",
       "    </tr>\n",
       "    <tr>\n",
       "      <th>2</th>\n",
       "      <td>0.0</td>\n",
       "      <td>0.0</td>\n",
       "      <td>1.0</td>\n",
       "      <td>26.0</td>\n",
       "      <td>1</td>\n",
       "      <td>0.0</td>\n",
       "      <td>0.0</td>\n",
       "      <td>0.0</td>\n",
       "      <td>1.0</td>\n",
       "      <td>38.0</td>\n",
       "      <td>...</td>\n",
       "      <td>0.0</td>\n",
       "      <td>0.0</td>\n",
       "      <td>0.0</td>\n",
       "      <td>0.0</td>\n",
       "      <td>0.0</td>\n",
       "      <td>0</td>\n",
       "      <td>0</td>\n",
       "      <td>0</td>\n",
       "      <td>1</td>\n",
       "      <td>1</td>\n",
       "    </tr>\n",
       "    <tr>\n",
       "      <th>3</th>\n",
       "      <td>0.0</td>\n",
       "      <td>0.0</td>\n",
       "      <td>1.0</td>\n",
       "      <td>60.0</td>\n",
       "      <td>1</td>\n",
       "      <td>0.0</td>\n",
       "      <td>0.0</td>\n",
       "      <td>0.0</td>\n",
       "      <td>1.0</td>\n",
       "      <td>36.5</td>\n",
       "      <td>...</td>\n",
       "      <td>0.0</td>\n",
       "      <td>0.0</td>\n",
       "      <td>0.0</td>\n",
       "      <td>0.0</td>\n",
       "      <td>0.0</td>\n",
       "      <td>0</td>\n",
       "      <td>0</td>\n",
       "      <td>0</td>\n",
       "      <td>1</td>\n",
       "      <td>0</td>\n",
       "    </tr>\n",
       "    <tr>\n",
       "      <th>4</th>\n",
       "      <td>0.0</td>\n",
       "      <td>0.0</td>\n",
       "      <td>1.0</td>\n",
       "      <td>72.0</td>\n",
       "      <td>1</td>\n",
       "      <td>0.0</td>\n",
       "      <td>0.0</td>\n",
       "      <td>0.0</td>\n",
       "      <td>1.0</td>\n",
       "      <td>36.9</td>\n",
       "      <td>...</td>\n",
       "      <td>0.0</td>\n",
       "      <td>0.0</td>\n",
       "      <td>0.0</td>\n",
       "      <td>0.0</td>\n",
       "      <td>0.0</td>\n",
       "      <td>0</td>\n",
       "      <td>0</td>\n",
       "      <td>0</td>\n",
       "      <td>1</td>\n",
       "      <td>0</td>\n",
       "    </tr>\n",
       "    <tr>\n",
       "      <th>...</th>\n",
       "      <td>...</td>\n",
       "      <td>...</td>\n",
       "      <td>...</td>\n",
       "      <td>...</td>\n",
       "      <td>...</td>\n",
       "      <td>...</td>\n",
       "      <td>...</td>\n",
       "      <td>...</td>\n",
       "      <td>...</td>\n",
       "      <td>...</td>\n",
       "      <td>...</td>\n",
       "      <td>...</td>\n",
       "      <td>...</td>\n",
       "      <td>...</td>\n",
       "      <td>...</td>\n",
       "      <td>...</td>\n",
       "      <td>...</td>\n",
       "      <td>...</td>\n",
       "      <td>...</td>\n",
       "      <td>...</td>\n",
       "      <td>...</td>\n",
       "    </tr>\n",
       "    <tr>\n",
       "      <th>12696</th>\n",
       "      <td>0.0</td>\n",
       "      <td>0.0</td>\n",
       "      <td>1.0</td>\n",
       "      <td>67.0</td>\n",
       "      <td>0</td>\n",
       "      <td>0.0</td>\n",
       "      <td>1.0</td>\n",
       "      <td>0.0</td>\n",
       "      <td>0.0</td>\n",
       "      <td>36.6</td>\n",
       "      <td>...</td>\n",
       "      <td>0.0</td>\n",
       "      <td>0.0</td>\n",
       "      <td>0.0</td>\n",
       "      <td>0.0</td>\n",
       "      <td>0.0</td>\n",
       "      <td>0</td>\n",
       "      <td>0</td>\n",
       "      <td>0</td>\n",
       "      <td>0</td>\n",
       "      <td>1</td>\n",
       "    </tr>\n",
       "    <tr>\n",
       "      <th>12697</th>\n",
       "      <td>0.0</td>\n",
       "      <td>0.0</td>\n",
       "      <td>1.0</td>\n",
       "      <td>58.0</td>\n",
       "      <td>0</td>\n",
       "      <td>0.0</td>\n",
       "      <td>1.0</td>\n",
       "      <td>0.0</td>\n",
       "      <td>0.0</td>\n",
       "      <td>37.7</td>\n",
       "      <td>...</td>\n",
       "      <td>0.0</td>\n",
       "      <td>0.0</td>\n",
       "      <td>0.0</td>\n",
       "      <td>0.0</td>\n",
       "      <td>0.0</td>\n",
       "      <td>0</td>\n",
       "      <td>0</td>\n",
       "      <td>0</td>\n",
       "      <td>1</td>\n",
       "      <td>0</td>\n",
       "    </tr>\n",
       "    <tr>\n",
       "      <th>12698</th>\n",
       "      <td>0.0</td>\n",
       "      <td>0.0</td>\n",
       "      <td>1.0</td>\n",
       "      <td>38.0</td>\n",
       "      <td>0</td>\n",
       "      <td>0.0</td>\n",
       "      <td>1.0</td>\n",
       "      <td>0.0</td>\n",
       "      <td>0.0</td>\n",
       "      <td>36.9</td>\n",
       "      <td>...</td>\n",
       "      <td>0.0</td>\n",
       "      <td>0.0</td>\n",
       "      <td>0.0</td>\n",
       "      <td>0.0</td>\n",
       "      <td>0.0</td>\n",
       "      <td>0</td>\n",
       "      <td>0</td>\n",
       "      <td>0</td>\n",
       "      <td>0</td>\n",
       "      <td>1</td>\n",
       "    </tr>\n",
       "    <tr>\n",
       "      <th>12699</th>\n",
       "      <td>0.0</td>\n",
       "      <td>0.0</td>\n",
       "      <td>1.0</td>\n",
       "      <td>45.0</td>\n",
       "      <td>0</td>\n",
       "      <td>0.0</td>\n",
       "      <td>1.0</td>\n",
       "      <td>0.0</td>\n",
       "      <td>0.0</td>\n",
       "      <td>39.2</td>\n",
       "      <td>...</td>\n",
       "      <td>0.0</td>\n",
       "      <td>0.0</td>\n",
       "      <td>0.0</td>\n",
       "      <td>0.0</td>\n",
       "      <td>0.0</td>\n",
       "      <td>0</td>\n",
       "      <td>0</td>\n",
       "      <td>0</td>\n",
       "      <td>1</td>\n",
       "      <td>0</td>\n",
       "    </tr>\n",
       "    <tr>\n",
       "      <th>12700</th>\n",
       "      <td>0.0</td>\n",
       "      <td>0.0</td>\n",
       "      <td>1.0</td>\n",
       "      <td>42.0</td>\n",
       "      <td>1</td>\n",
       "      <td>0.0</td>\n",
       "      <td>1.0</td>\n",
       "      <td>0.0</td>\n",
       "      <td>0.0</td>\n",
       "      <td>37.4</td>\n",
       "      <td>...</td>\n",
       "      <td>0.0</td>\n",
       "      <td>0.0</td>\n",
       "      <td>0.0</td>\n",
       "      <td>0.0</td>\n",
       "      <td>0.0</td>\n",
       "      <td>0</td>\n",
       "      <td>0</td>\n",
       "      <td>0</td>\n",
       "      <td>1</td>\n",
       "      <td>0</td>\n",
       "    </tr>\n",
       "  </tbody>\n",
       "</table>\n",
       "<p>26237 rows × 57 columns</p>\n",
       "</div>"
      ],
      "text/plain": [
       "       country_Azerbaijan  country_Other  country_T.C.   age  sex  \\\n",
       "0                     0.0            0.0           1.0  47.0    1   \n",
       "1                     0.0            0.0           1.0  23.0    1   \n",
       "2                     0.0            0.0           1.0  26.0    1   \n",
       "3                     0.0            0.0           1.0  60.0    1   \n",
       "4                     0.0            0.0           1.0  72.0    1   \n",
       "...                   ...            ...           ...   ...  ...   \n",
       "12696                 0.0            0.0           1.0  67.0    0   \n",
       "12697                 0.0            0.0           1.0  58.0    0   \n",
       "12698                 0.0            0.0           1.0  38.0    0   \n",
       "12699                 0.0            0.0           1.0  45.0    0   \n",
       "12700                 0.0            0.0           1.0  42.0    1   \n",
       "\n",
       "       station_Fall  station_Spring  station_Summer  station_Winter  \\\n",
       "0               0.0             0.0             0.0             1.0   \n",
       "1               0.0             0.0             0.0             1.0   \n",
       "2               0.0             0.0             0.0             1.0   \n",
       "3               0.0             0.0             0.0             1.0   \n",
       "4               0.0             0.0             0.0             1.0   \n",
       "...             ...             ...             ...             ...   \n",
       "12696           0.0             1.0             0.0             0.0   \n",
       "12697           0.0             1.0             0.0             0.0   \n",
       "12698           0.0             1.0             0.0             0.0   \n",
       "12699           0.0             1.0             0.0             0.0   \n",
       "12700           0.0             1.0             0.0             0.0   \n",
       "\n",
       "       fever_temperature  ...  aids_hiv  diabetes_mellitus_type_1  \\\n",
       "0                   38.2  ...       0.0                       0.0   \n",
       "1                   37.0  ...       0.0                       0.0   \n",
       "2                   38.0  ...       0.0                       0.0   \n",
       "3                   36.5  ...       0.0                       0.0   \n",
       "4                   36.9  ...       0.0                       0.0   \n",
       "...                  ...  ...       ...                       ...   \n",
       "12696               36.6  ...       0.0                       0.0   \n",
       "12697               37.7  ...       0.0                       0.0   \n",
       "12698               36.9  ...       0.0                       0.0   \n",
       "12699               39.2  ...       0.0                       0.0   \n",
       "12700               37.4  ...       0.0                       0.0   \n",
       "\n",
       "       diabetes_mellitus_type_2  rheumatologic_disorder  dementia  \\\n",
       "0                           0.0                     0.0       0.0   \n",
       "1                           0.0                     0.0       0.0   \n",
       "2                           0.0                     0.0       0.0   \n",
       "3                           0.0                     0.0       0.0   \n",
       "4                           0.0                     0.0       0.0   \n",
       "...                         ...                     ...       ...   \n",
       "12696                       0.0                     0.0       0.0   \n",
       "12697                       0.0                     0.0       0.0   \n",
       "12698                       0.0                     0.0       0.0   \n",
       "12699                       0.0                     0.0       0.0   \n",
       "12700                       0.0                     0.0       0.0   \n",
       "\n",
       "       tuberculosis  smoking  other_risks  pcr_result  previous_positives  \n",
       "0                 0        0            0           1                   0  \n",
       "1                 0        0            0           1                   0  \n",
       "2                 0        0            0           1                   1  \n",
       "3                 0        0            0           1                   0  \n",
       "4                 0        0            0           1                   0  \n",
       "...             ...      ...          ...         ...                 ...  \n",
       "12696             0        0            0           0                   1  \n",
       "12697             0        0            0           1                   0  \n",
       "12698             0        0            0           0                   1  \n",
       "12699             0        0            0           1                   0  \n",
       "12700             0        0            0           1                   0  \n",
       "\n",
       "[26237 rows x 57 columns]"
      ]
     },
     "execution_count": 57,
     "metadata": {},
     "output_type": "execute_result"
    }
   ],
   "source": [
    "hospital_data"
   ]
  },
  {
   "cell_type": "markdown",
   "metadata": {},
   "source": [
    "Separate X from y"
   ]
  },
  {
   "cell_type": "code",
   "execution_count": 58,
   "metadata": {},
   "outputs": [],
   "source": [
    "X = hospital_data.drop('pcr_result', axis=1)\n",
    "y = hospital_data['pcr_result']"
   ]
  },
  {
   "cell_type": "markdown",
   "metadata": {},
   "source": [
    "Debemos normalizar los datos"
   ]
  },
  {
   "cell_type": "code",
   "execution_count": 59,
   "metadata": {},
   "outputs": [],
   "source": [
    "from sklearn.preprocessing import StandardScaler\n",
    "\n",
    "scaler = StandardScaler()\n",
    "X_scaled = scaler.fit_transform(X)\n",
    "\n",
    "X_scaled = pd.DataFrame(X_scaled, columns=X.columns)"
   ]
  },
  {
   "cell_type": "code",
   "execution_count": 60,
   "metadata": {},
   "outputs": [],
   "source": [
    "X_scaled.to_csv('data/X.csv', index=False)\n",
    "y.to_csv('data/y.csv', index=False)"
   ]
  }
 ],
 "metadata": {
  "kernelspec": {
   "display_name": "Python 3",
   "language": "python",
   "name": "python3"
  },
  "language_info": {
   "codemirror_mode": {
    "name": "ipython",
    "version": 3
   },
   "file_extension": ".py",
   "mimetype": "text/x-python",
   "name": "python",
   "nbconvert_exporter": "python",
   "pygments_lexer": "ipython3",
   "version": "3.9.6"
  }
 },
 "nbformat": 4,
 "nbformat_minor": 2
}
