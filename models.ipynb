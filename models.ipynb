{
 "cells": [
  {
   "cell_type": "code",
   "execution_count": 6,
   "metadata": {},
   "outputs": [],
   "source": [
    "import pandas as pd\n",
    "from sklearn.model_selection import train_test_split\n",
    "from sklearn.ensemble import RandomForestClassifier\n",
    "from sklearn.metrics import accuracy_score, precision_score, recall_score, f1_score, confusion_matrix, classification_report\n",
    "from sklearn.feature_selection import RFE\n",
    "from sklearn.linear_model import LogisticRegression\n",
    "from sklearn.pipeline import Pipeline\n",
    "from sklearn.model_selection import GridSearchCV"
   ]
  },
  {
   "cell_type": "markdown",
   "metadata": {},
   "source": [
    "Lectura de datos"
   ]
  },
  {
   "cell_type": "code",
   "execution_count": 2,
   "metadata": {},
   "outputs": [],
   "source": [
    "X = pd.read_csv('data/X.csv')\n",
    "y = pd.read_csv('data/y.csv').values.ravel()"
   ]
  },
  {
   "cell_type": "code",
   "execution_count": 3,
   "metadata": {},
   "outputs": [
    {
     "data": {
      "text/html": [
       "<div>\n",
       "<style scoped>\n",
       "    .dataframe tbody tr th:only-of-type {\n",
       "        vertical-align: middle;\n",
       "    }\n",
       "\n",
       "    .dataframe tbody tr th {\n",
       "        vertical-align: top;\n",
       "    }\n",
       "\n",
       "    .dataframe thead th {\n",
       "        text-align: right;\n",
       "    }\n",
       "</style>\n",
       "<table border=\"1\" class=\"dataframe\">\n",
       "  <thead>\n",
       "    <tr style=\"text-align: right;\">\n",
       "      <th></th>\n",
       "      <th>country_Azerbaijan</th>\n",
       "      <th>country_Other</th>\n",
       "      <th>country_T.C.</th>\n",
       "      <th>age</th>\n",
       "      <th>sex</th>\n",
       "      <th>station_Fall</th>\n",
       "      <th>station_Spring</th>\n",
       "      <th>station_Summer</th>\n",
       "      <th>station_Winter</th>\n",
       "      <th>fever_temperature</th>\n",
       "      <th>...</th>\n",
       "      <th>chronic_hematologic_disease</th>\n",
       "      <th>aids_hiv</th>\n",
       "      <th>diabetes_mellitus_type_1</th>\n",
       "      <th>diabetes_mellitus_type_2</th>\n",
       "      <th>rheumatologic_disorder</th>\n",
       "      <th>dementia</th>\n",
       "      <th>tuberculosis</th>\n",
       "      <th>smoking</th>\n",
       "      <th>other_risks</th>\n",
       "      <th>previous_positives</th>\n",
       "    </tr>\n",
       "  </thead>\n",
       "  <tbody>\n",
       "    <tr>\n",
       "      <th>0</th>\n",
       "      <td>-0.088303</td>\n",
       "      <td>-0.129387</td>\n",
       "      <td>0.225631</td>\n",
       "      <td>0.233591</td>\n",
       "      <td>0.847138</td>\n",
       "      <td>-0.587958</td>\n",
       "      <td>-0.483181</td>\n",
       "      <td>-0.501048</td>\n",
       "      <td>1.353342</td>\n",
       "      <td>1.117438</td>\n",
       "      <td>...</td>\n",
       "      <td>-0.042812</td>\n",
       "      <td>-0.038583</td>\n",
       "      <td>-0.041909</td>\n",
       "      <td>-0.042362</td>\n",
       "      <td>-0.039562</td>\n",
       "      <td>-0.039562</td>\n",
       "      <td>-0.038085</td>\n",
       "      <td>-0.314681</td>\n",
       "      <td>-0.033834</td>\n",
       "      <td>-0.405014</td>\n",
       "    </tr>\n",
       "    <tr>\n",
       "      <th>1</th>\n",
       "      <td>-0.088303</td>\n",
       "      <td>-0.129387</td>\n",
       "      <td>0.225631</td>\n",
       "      <td>-1.092943</td>\n",
       "      <td>0.847138</td>\n",
       "      <td>-0.587958</td>\n",
       "      <td>-0.483181</td>\n",
       "      <td>-0.501048</td>\n",
       "      <td>1.353342</td>\n",
       "      <td>-0.447312</td>\n",
       "      <td>...</td>\n",
       "      <td>-0.042812</td>\n",
       "      <td>-0.038583</td>\n",
       "      <td>-0.041909</td>\n",
       "      <td>-0.042362</td>\n",
       "      <td>-0.039562</td>\n",
       "      <td>-0.039562</td>\n",
       "      <td>-0.038085</td>\n",
       "      <td>-0.314681</td>\n",
       "      <td>-0.033834</td>\n",
       "      <td>-0.405014</td>\n",
       "    </tr>\n",
       "    <tr>\n",
       "      <th>2</th>\n",
       "      <td>-0.088303</td>\n",
       "      <td>-0.129387</td>\n",
       "      <td>0.225631</td>\n",
       "      <td>-0.927126</td>\n",
       "      <td>0.847138</td>\n",
       "      <td>-0.587958</td>\n",
       "      <td>-0.483181</td>\n",
       "      <td>-0.501048</td>\n",
       "      <td>1.353342</td>\n",
       "      <td>0.856647</td>\n",
       "      <td>...</td>\n",
       "      <td>-0.042812</td>\n",
       "      <td>-0.038583</td>\n",
       "      <td>-0.041909</td>\n",
       "      <td>-0.042362</td>\n",
       "      <td>-0.039562</td>\n",
       "      <td>-0.039562</td>\n",
       "      <td>-0.038085</td>\n",
       "      <td>-0.314681</td>\n",
       "      <td>-0.033834</td>\n",
       "      <td>0.663176</td>\n",
       "    </tr>\n",
       "    <tr>\n",
       "      <th>3</th>\n",
       "      <td>-0.088303</td>\n",
       "      <td>-0.129387</td>\n",
       "      <td>0.225631</td>\n",
       "      <td>0.952130</td>\n",
       "      <td>0.847138</td>\n",
       "      <td>-0.587958</td>\n",
       "      <td>-0.483181</td>\n",
       "      <td>-0.501048</td>\n",
       "      <td>1.353342</td>\n",
       "      <td>-1.099292</td>\n",
       "      <td>...</td>\n",
       "      <td>-0.042812</td>\n",
       "      <td>-0.038583</td>\n",
       "      <td>-0.041909</td>\n",
       "      <td>-0.042362</td>\n",
       "      <td>-0.039562</td>\n",
       "      <td>-0.039562</td>\n",
       "      <td>-0.038085</td>\n",
       "      <td>-0.314681</td>\n",
       "      <td>-0.033834</td>\n",
       "      <td>-0.405014</td>\n",
       "    </tr>\n",
       "    <tr>\n",
       "      <th>4</th>\n",
       "      <td>-0.088303</td>\n",
       "      <td>-0.129387</td>\n",
       "      <td>0.225631</td>\n",
       "      <td>1.615396</td>\n",
       "      <td>0.847138</td>\n",
       "      <td>-0.587958</td>\n",
       "      <td>-0.483181</td>\n",
       "      <td>-0.501048</td>\n",
       "      <td>1.353342</td>\n",
       "      <td>-0.577708</td>\n",
       "      <td>...</td>\n",
       "      <td>-0.042812</td>\n",
       "      <td>-0.038583</td>\n",
       "      <td>-0.041909</td>\n",
       "      <td>-0.042362</td>\n",
       "      <td>-0.039562</td>\n",
       "      <td>-0.039562</td>\n",
       "      <td>-0.038085</td>\n",
       "      <td>-0.314681</td>\n",
       "      <td>-0.033834</td>\n",
       "      <td>-0.405014</td>\n",
       "    </tr>\n",
       "  </tbody>\n",
       "</table>\n",
       "<p>5 rows × 56 columns</p>\n",
       "</div>"
      ],
      "text/plain": [
       "   country_Azerbaijan  country_Other  country_T.C.       age       sex  \\\n",
       "0           -0.088303      -0.129387      0.225631  0.233591  0.847138   \n",
       "1           -0.088303      -0.129387      0.225631 -1.092943  0.847138   \n",
       "2           -0.088303      -0.129387      0.225631 -0.927126  0.847138   \n",
       "3           -0.088303      -0.129387      0.225631  0.952130  0.847138   \n",
       "4           -0.088303      -0.129387      0.225631  1.615396  0.847138   \n",
       "\n",
       "   station_Fall  station_Spring  station_Summer  station_Winter  \\\n",
       "0     -0.587958       -0.483181       -0.501048        1.353342   \n",
       "1     -0.587958       -0.483181       -0.501048        1.353342   \n",
       "2     -0.587958       -0.483181       -0.501048        1.353342   \n",
       "3     -0.587958       -0.483181       -0.501048        1.353342   \n",
       "4     -0.587958       -0.483181       -0.501048        1.353342   \n",
       "\n",
       "   fever_temperature  ...  chronic_hematologic_disease  aids_hiv  \\\n",
       "0           1.117438  ...                    -0.042812 -0.038583   \n",
       "1          -0.447312  ...                    -0.042812 -0.038583   \n",
       "2           0.856647  ...                    -0.042812 -0.038583   \n",
       "3          -1.099292  ...                    -0.042812 -0.038583   \n",
       "4          -0.577708  ...                    -0.042812 -0.038583   \n",
       "\n",
       "   diabetes_mellitus_type_1  diabetes_mellitus_type_2  rheumatologic_disorder  \\\n",
       "0                 -0.041909                 -0.042362               -0.039562   \n",
       "1                 -0.041909                 -0.042362               -0.039562   \n",
       "2                 -0.041909                 -0.042362               -0.039562   \n",
       "3                 -0.041909                 -0.042362               -0.039562   \n",
       "4                 -0.041909                 -0.042362               -0.039562   \n",
       "\n",
       "   dementia  tuberculosis   smoking  other_risks  previous_positives  \n",
       "0 -0.039562     -0.038085 -0.314681    -0.033834           -0.405014  \n",
       "1 -0.039562     -0.038085 -0.314681    -0.033834           -0.405014  \n",
       "2 -0.039562     -0.038085 -0.314681    -0.033834            0.663176  \n",
       "3 -0.039562     -0.038085 -0.314681    -0.033834           -0.405014  \n",
       "4 -0.039562     -0.038085 -0.314681    -0.033834           -0.405014  \n",
       "\n",
       "[5 rows x 56 columns]"
      ]
     },
     "execution_count": 3,
     "metadata": {},
     "output_type": "execute_result"
    }
   ],
   "source": [
    "X.head()"
   ]
  },
  {
   "cell_type": "markdown",
   "metadata": {},
   "source": [
    "División de datos"
   ]
  },
  {
   "cell_type": "code",
   "execution_count": 4,
   "metadata": {},
   "outputs": [
    {
     "name": "stdout",
     "output_type": "stream",
     "text": [
      "Training set: (21251, 56)\n",
      "Validation set: (2362, 56)\n",
      "Test set: (2624, 56)\n"
     ]
    }
   ],
   "source": [
    "X_train, X_test, y_train, y_test = train_test_split(X, y, test_size=0.1, random_state=42, stratify=y) # stratify=y to keep the same class distribution\n",
    "X_train, X_val, y_train, y_val = train_test_split(X_train, y_train, test_size=0.1, random_state=42, stratify=y_train) # stratify=y to keep the same class distribution\n",
    "\n",
    "print('Training set:', X_train.shape)\n",
    "print('Validation set:', X_val.shape)\n",
    "print('Test set:', X_test.shape)"
   ]
  },
  {
   "cell_type": "markdown",
   "metadata": {},
   "source": [
    "# Regresión Logística "
   ]
  },
  {
   "cell_type": "code",
   "execution_count": 48,
   "metadata": {},
   "outputs": [
    {
     "data": {
      "text/html": [
       "<style>#sk-container-id-6 {color: black;}#sk-container-id-6 pre{padding: 0;}#sk-container-id-6 div.sk-toggleable {background-color: white;}#sk-container-id-6 label.sk-toggleable__label {cursor: pointer;display: block;width: 100%;margin-bottom: 0;padding: 0.3em;box-sizing: border-box;text-align: center;}#sk-container-id-6 label.sk-toggleable__label-arrow:before {content: \"▸\";float: left;margin-right: 0.25em;color: #696969;}#sk-container-id-6 label.sk-toggleable__label-arrow:hover:before {color: black;}#sk-container-id-6 div.sk-estimator:hover label.sk-toggleable__label-arrow:before {color: black;}#sk-container-id-6 div.sk-toggleable__content {max-height: 0;max-width: 0;overflow: hidden;text-align: left;background-color: #f0f8ff;}#sk-container-id-6 div.sk-toggleable__content pre {margin: 0.2em;color: black;border-radius: 0.25em;background-color: #f0f8ff;}#sk-container-id-6 input.sk-toggleable__control:checked~div.sk-toggleable__content {max-height: 200px;max-width: 100%;overflow: auto;}#sk-container-id-6 input.sk-toggleable__control:checked~label.sk-toggleable__label-arrow:before {content: \"▾\";}#sk-container-id-6 div.sk-estimator input.sk-toggleable__control:checked~label.sk-toggleable__label {background-color: #d4ebff;}#sk-container-id-6 div.sk-label input.sk-toggleable__control:checked~label.sk-toggleable__label {background-color: #d4ebff;}#sk-container-id-6 input.sk-hidden--visually {border: 0;clip: rect(1px 1px 1px 1px);clip: rect(1px, 1px, 1px, 1px);height: 1px;margin: -1px;overflow: hidden;padding: 0;position: absolute;width: 1px;}#sk-container-id-6 div.sk-estimator {font-family: monospace;background-color: #f0f8ff;border: 1px dotted black;border-radius: 0.25em;box-sizing: border-box;margin-bottom: 0.5em;}#sk-container-id-6 div.sk-estimator:hover {background-color: #d4ebff;}#sk-container-id-6 div.sk-parallel-item::after {content: \"\";width: 100%;border-bottom: 1px solid gray;flex-grow: 1;}#sk-container-id-6 div.sk-label:hover label.sk-toggleable__label {background-color: #d4ebff;}#sk-container-id-6 div.sk-serial::before {content: \"\";position: absolute;border-left: 1px solid gray;box-sizing: border-box;top: 0;bottom: 0;left: 50%;z-index: 0;}#sk-container-id-6 div.sk-serial {display: flex;flex-direction: column;align-items: center;background-color: white;padding-right: 0.2em;padding-left: 0.2em;position: relative;}#sk-container-id-6 div.sk-item {position: relative;z-index: 1;}#sk-container-id-6 div.sk-parallel {display: flex;align-items: stretch;justify-content: center;background-color: white;position: relative;}#sk-container-id-6 div.sk-item::before, #sk-container-id-6 div.sk-parallel-item::before {content: \"\";position: absolute;border-left: 1px solid gray;box-sizing: border-box;top: 0;bottom: 0;left: 50%;z-index: -1;}#sk-container-id-6 div.sk-parallel-item {display: flex;flex-direction: column;z-index: 1;position: relative;background-color: white;}#sk-container-id-6 div.sk-parallel-item:first-child::after {align-self: flex-end;width: 50%;}#sk-container-id-6 div.sk-parallel-item:last-child::after {align-self: flex-start;width: 50%;}#sk-container-id-6 div.sk-parallel-item:only-child::after {width: 0;}#sk-container-id-6 div.sk-dashed-wrapped {border: 1px dashed gray;margin: 0 0.4em 0.5em 0.4em;box-sizing: border-box;padding-bottom: 0.4em;background-color: white;}#sk-container-id-6 div.sk-label label {font-family: monospace;font-weight: bold;display: inline-block;line-height: 1.2em;}#sk-container-id-6 div.sk-label-container {text-align: center;}#sk-container-id-6 div.sk-container {/* jupyter's `normalize.less` sets `[hidden] { display: none; }` but bootstrap.min.css set `[hidden] { display: none !important; }` so we also need the `!important` here to be able to override the default hidden behavior on the sphinx rendered scikit-learn.org. See: https://github.com/scikit-learn/scikit-learn/issues/21755 */display: inline-block !important;position: relative;}#sk-container-id-6 div.sk-text-repr-fallback {display: none;}</style><div id=\"sk-container-id-6\" class=\"sk-top-container\"><div class=\"sk-text-repr-fallback\"><pre>RFE(estimator=LogisticRegression(class_weight=&#x27;balanced&#x27;),\n",
       "    n_features_to_select=15)</pre><b>In a Jupyter environment, please rerun this cell to show the HTML representation or trust the notebook. <br />On GitHub, the HTML representation is unable to render, please try loading this page with nbviewer.org.</b></div><div class=\"sk-container\" hidden><div class=\"sk-item sk-dashed-wrapped\"><div class=\"sk-label-container\"><div class=\"sk-label sk-toggleable\"><input class=\"sk-toggleable__control sk-hidden--visually\" id=\"sk-estimator-id-16\" type=\"checkbox\" ><label for=\"sk-estimator-id-16\" class=\"sk-toggleable__label sk-toggleable__label-arrow\">RFE</label><div class=\"sk-toggleable__content\"><pre>RFE(estimator=LogisticRegression(class_weight=&#x27;balanced&#x27;),\n",
       "    n_features_to_select=15)</pre></div></div></div><div class=\"sk-parallel\"><div class=\"sk-parallel-item\"><div class=\"sk-item\"><div class=\"sk-label-container\"><div class=\"sk-label sk-toggleable\"><input class=\"sk-toggleable__control sk-hidden--visually\" id=\"sk-estimator-id-17\" type=\"checkbox\" ><label for=\"sk-estimator-id-17\" class=\"sk-toggleable__label sk-toggleable__label-arrow\">estimator: LogisticRegression</label><div class=\"sk-toggleable__content\"><pre>LogisticRegression(class_weight=&#x27;balanced&#x27;)</pre></div></div></div><div class=\"sk-serial\"><div class=\"sk-item\"><div class=\"sk-estimator sk-toggleable\"><input class=\"sk-toggleable__control sk-hidden--visually\" id=\"sk-estimator-id-18\" type=\"checkbox\" ><label for=\"sk-estimator-id-18\" class=\"sk-toggleable__label sk-toggleable__label-arrow\">LogisticRegression</label><div class=\"sk-toggleable__content\"><pre>LogisticRegression(class_weight=&#x27;balanced&#x27;)</pre></div></div></div></div></div></div></div></div></div></div>"
      ],
      "text/plain": [
       "RFE(estimator=LogisticRegression(class_weight='balanced'),\n",
       "    n_features_to_select=15)"
      ]
     },
     "execution_count": 48,
     "metadata": {},
     "output_type": "execute_result"
    }
   ],
   "source": [
    "# 1. RFE con Regresión Logística\n",
    "log_reg = LogisticRegression(class_weight='balanced')\n",
    "rfe = RFE(estimator=log_reg, n_features_to_select=15)\n",
    "rfe.fit(X_train, y_train)"
   ]
  },
  {
   "cell_type": "code",
   "execution_count": 49,
   "metadata": {},
   "outputs": [
    {
     "name": "stdout",
     "output_type": "stream",
     "text": [
      "Características seleccionadas con RFE: Index(['country_Azerbaijan', 'country_Other', 'country_T.C.', 'station_Fall',\n",
      "       'station_Spring', 'station_Winter', 'history_of_fever', 'cough',\n",
      "       'shortness_of_breath', 'conjunctivitis', 'fatigue_malaise', 'diarrhoea',\n",
      "       'vomiting_nausea', 'smoking', 'previous_positives'],\n",
      "      dtype='object')\n"
     ]
    }
   ],
   "source": [
    "# Ver las características seleccionadas\n",
    "selected_features = X_train.columns[rfe.support_]\n",
    "print(\"Características seleccionadas con RFE:\", selected_features)"
   ]
  },
  {
   "cell_type": "code",
   "execution_count": null,
   "metadata": {},
   "outputs": [
    {
     "name": "stdout",
     "output_type": "stream",
     "text": [
      "Mejores parámetros para Regresión Logística: {'C': 1, 'penalty': 'l2'}\n",
      "Accuracy en el conjunto de validación: 0.8598645215918713\n",
      "Matriz de confusión en el conjunto de validación:\n",
      "[[  81  282]\n",
      " [  49 1950]]\n",
      "Reporte de clasificación en el conjunto de validación:\n",
      "              precision    recall  f1-score   support\n",
      "\n",
      "           0       0.62      0.22      0.33       363\n",
      "           1       0.87      0.98      0.92      1999\n",
      "\n",
      "    accuracy                           0.86      2362\n",
      "   macro avg       0.75      0.60      0.63      2362\n",
      "weighted avg       0.84      0.86      0.83      2362\n",
      "\n"
     ]
    }
   ],
   "source": [
    "\n",
    "# Definir los hiperparámetros para GridSearch\n",
    "param_grid_lr = {\n",
    "    'C': [0.1, 1, 10, 100],  # Parámetro de regularización\n",
    "    'penalty': ['l1','l2'],  # Penalización\n",
    "}\n",
    "\n",
    "# GridSearchCV para Logistic Regression\n",
    "grid_search_lr = GridSearchCV(estimator=LogisticRegression(max_iter=1000, solver='liblinear'), param_grid=param_grid_lr, cv=5, scoring='accuracy')\n",
    "grid_search_lr.fit(X_train[selected_features], y_train)  # Utilizando las características seleccionadas\n",
    "\n",
    "# Mejor combinación de hiperparámetros\n",
    "print(\"Mejores parámetros para Regresión Logística:\", grid_search_lr.best_params_)\n",
    "\n",
    "# Accuracy en el conjunto de validación\n",
    "print(\"Accuracy en el conjunto de validación:\", grid_search_lr.score(X_val[selected_features], y_val))\n",
    "\n",
    "# Matriz de confusión en el conjunto de validación\n",
    "print(\"Matriz de confusión en el conjunto de validación:\")\n",
    "print(confusion_matrix(y_val, grid_search_lr.predict(X_val[selected_features])))\n",
    "\n",
    "# Reporte de clasificación en el conjunto de validación\n",
    "print(\"Reporte de clasificación en el conjunto de validación:\")\n",
    "print(classification_report(y_val, grid_search_lr.predict(X_val[selected_features])))"
   ]
  },
  {
   "cell_type": "markdown",
   "metadata": {},
   "source": [
    "# Random Forest"
   ]
  },
  {
   "cell_type": "code",
   "execution_count": 53,
   "metadata": {},
   "outputs": [
    {
     "data": {
      "text/html": [
       "<style>#sk-container-id-7 {color: black;}#sk-container-id-7 pre{padding: 0;}#sk-container-id-7 div.sk-toggleable {background-color: white;}#sk-container-id-7 label.sk-toggleable__label {cursor: pointer;display: block;width: 100%;margin-bottom: 0;padding: 0.3em;box-sizing: border-box;text-align: center;}#sk-container-id-7 label.sk-toggleable__label-arrow:before {content: \"▸\";float: left;margin-right: 0.25em;color: #696969;}#sk-container-id-7 label.sk-toggleable__label-arrow:hover:before {color: black;}#sk-container-id-7 div.sk-estimator:hover label.sk-toggleable__label-arrow:before {color: black;}#sk-container-id-7 div.sk-toggleable__content {max-height: 0;max-width: 0;overflow: hidden;text-align: left;background-color: #f0f8ff;}#sk-container-id-7 div.sk-toggleable__content pre {margin: 0.2em;color: black;border-radius: 0.25em;background-color: #f0f8ff;}#sk-container-id-7 input.sk-toggleable__control:checked~div.sk-toggleable__content {max-height: 200px;max-width: 100%;overflow: auto;}#sk-container-id-7 input.sk-toggleable__control:checked~label.sk-toggleable__label-arrow:before {content: \"▾\";}#sk-container-id-7 div.sk-estimator input.sk-toggleable__control:checked~label.sk-toggleable__label {background-color: #d4ebff;}#sk-container-id-7 div.sk-label input.sk-toggleable__control:checked~label.sk-toggleable__label {background-color: #d4ebff;}#sk-container-id-7 input.sk-hidden--visually {border: 0;clip: rect(1px 1px 1px 1px);clip: rect(1px, 1px, 1px, 1px);height: 1px;margin: -1px;overflow: hidden;padding: 0;position: absolute;width: 1px;}#sk-container-id-7 div.sk-estimator {font-family: monospace;background-color: #f0f8ff;border: 1px dotted black;border-radius: 0.25em;box-sizing: border-box;margin-bottom: 0.5em;}#sk-container-id-7 div.sk-estimator:hover {background-color: #d4ebff;}#sk-container-id-7 div.sk-parallel-item::after {content: \"\";width: 100%;border-bottom: 1px solid gray;flex-grow: 1;}#sk-container-id-7 div.sk-label:hover label.sk-toggleable__label {background-color: #d4ebff;}#sk-container-id-7 div.sk-serial::before {content: \"\";position: absolute;border-left: 1px solid gray;box-sizing: border-box;top: 0;bottom: 0;left: 50%;z-index: 0;}#sk-container-id-7 div.sk-serial {display: flex;flex-direction: column;align-items: center;background-color: white;padding-right: 0.2em;padding-left: 0.2em;position: relative;}#sk-container-id-7 div.sk-item {position: relative;z-index: 1;}#sk-container-id-7 div.sk-parallel {display: flex;align-items: stretch;justify-content: center;background-color: white;position: relative;}#sk-container-id-7 div.sk-item::before, #sk-container-id-7 div.sk-parallel-item::before {content: \"\";position: absolute;border-left: 1px solid gray;box-sizing: border-box;top: 0;bottom: 0;left: 50%;z-index: -1;}#sk-container-id-7 div.sk-parallel-item {display: flex;flex-direction: column;z-index: 1;position: relative;background-color: white;}#sk-container-id-7 div.sk-parallel-item:first-child::after {align-self: flex-end;width: 50%;}#sk-container-id-7 div.sk-parallel-item:last-child::after {align-self: flex-start;width: 50%;}#sk-container-id-7 div.sk-parallel-item:only-child::after {width: 0;}#sk-container-id-7 div.sk-dashed-wrapped {border: 1px dashed gray;margin: 0 0.4em 0.5em 0.4em;box-sizing: border-box;padding-bottom: 0.4em;background-color: white;}#sk-container-id-7 div.sk-label label {font-family: monospace;font-weight: bold;display: inline-block;line-height: 1.2em;}#sk-container-id-7 div.sk-label-container {text-align: center;}#sk-container-id-7 div.sk-container {/* jupyter's `normalize.less` sets `[hidden] { display: none; }` but bootstrap.min.css set `[hidden] { display: none !important; }` so we also need the `!important` here to be able to override the default hidden behavior on the sphinx rendered scikit-learn.org. See: https://github.com/scikit-learn/scikit-learn/issues/21755 */display: inline-block !important;position: relative;}#sk-container-id-7 div.sk-text-repr-fallback {display: none;}</style><div id=\"sk-container-id-7\" class=\"sk-top-container\"><div class=\"sk-text-repr-fallback\"><pre>RFE(estimator=RandomForestClassifier(random_state=42), n_features_to_select=15)</pre><b>In a Jupyter environment, please rerun this cell to show the HTML representation or trust the notebook. <br />On GitHub, the HTML representation is unable to render, please try loading this page with nbviewer.org.</b></div><div class=\"sk-container\" hidden><div class=\"sk-item sk-dashed-wrapped\"><div class=\"sk-label-container\"><div class=\"sk-label sk-toggleable\"><input class=\"sk-toggleable__control sk-hidden--visually\" id=\"sk-estimator-id-19\" type=\"checkbox\" ><label for=\"sk-estimator-id-19\" class=\"sk-toggleable__label sk-toggleable__label-arrow\">RFE</label><div class=\"sk-toggleable__content\"><pre>RFE(estimator=RandomForestClassifier(random_state=42), n_features_to_select=15)</pre></div></div></div><div class=\"sk-parallel\"><div class=\"sk-parallel-item\"><div class=\"sk-item\"><div class=\"sk-label-container\"><div class=\"sk-label sk-toggleable\"><input class=\"sk-toggleable__control sk-hidden--visually\" id=\"sk-estimator-id-20\" type=\"checkbox\" ><label for=\"sk-estimator-id-20\" class=\"sk-toggleable__label sk-toggleable__label-arrow\">estimator: RandomForestClassifier</label><div class=\"sk-toggleable__content\"><pre>RandomForestClassifier(random_state=42)</pre></div></div></div><div class=\"sk-serial\"><div class=\"sk-item\"><div class=\"sk-estimator sk-toggleable\"><input class=\"sk-toggleable__control sk-hidden--visually\" id=\"sk-estimator-id-21\" type=\"checkbox\" ><label for=\"sk-estimator-id-21\" class=\"sk-toggleable__label sk-toggleable__label-arrow\">RandomForestClassifier</label><div class=\"sk-toggleable__content\"><pre>RandomForestClassifier(random_state=42)</pre></div></div></div></div></div></div></div></div></div></div>"
      ],
      "text/plain": [
       "RFE(estimator=RandomForestClassifier(random_state=42), n_features_to_select=15)"
      ]
     },
     "execution_count": 53,
     "metadata": {},
     "output_type": "execute_result"
    }
   ],
   "source": [
    "# RFE con Random Forest\n",
    "rf = RandomForestClassifier(n_estimators=100, random_state=42)\n",
    "rfe = RFE(estimator=rf, n_features_to_select=15)\n",
    "rfe.fit(X_train, y_train)"
   ]
  },
  {
   "cell_type": "code",
   "execution_count": 54,
   "metadata": {},
   "outputs": [
    {
     "name": "stdout",
     "output_type": "stream",
     "text": [
      "Características seleccionadas con RFE: Index(['country_T.C.', 'age', 'sex', 'station_Fall', 'station_Spring',\n",
      "       'fever_temperature', 'oxygen_saturation', 'history_of_fever', 'cough',\n",
      "       'sore_throat', 'headache', 'fatigue_malaise', 'muscle_aches',\n",
      "       'diarrhoea', 'previous_positives'],\n",
      "      dtype='object')\n"
     ]
    }
   ],
   "source": [
    "# Ver las características seleccionadas\n",
    "selected_features = X_train.columns[rfe.support_]\n",
    "print(\"Características seleccionadas con RFE:\", selected_features)"
   ]
  },
  {
   "cell_type": "code",
   "execution_count": 55,
   "metadata": {},
   "outputs": [
    {
     "name": "stdout",
     "output_type": "stream",
     "text": [
      "Mejores parámetros para Random Forest: {'max_depth': 50, 'max_features': 'sqrt', 'min_samples_leaf': 2, 'min_samples_split': 10, 'n_estimators': 300}\n",
      "Accuracy en el conjunto de validación: 0.8763759525825572\n",
      "Matriz de confusión en el conjunto de validación:\n",
      "[[ 156  207]\n",
      " [  85 1914]]\n"
     ]
    }
   ],
   "source": [
    "# Definir los hiperparámetros para GridSearch\n",
    "param_grid = {\n",
    "    'n_estimators': [100, 200, 300],\n",
    "    'max_depth': [30, 50, 70],\n",
    "    'min_samples_split': [5, 10],\n",
    "    'min_samples_leaf': [2, 5],\n",
    "    'max_features': ['sqrt', None]\n",
    "}\n",
    "\n",
    "grid_search_rf = GridSearchCV(estimator=RandomForestClassifier(random_state=42), param_grid=param_grid, cv=5, scoring='accuracy', n_jobs=-1)\n",
    "grid_search_rf.fit(X_train[selected_features], y_train)  # Utilizando las características seleccionadas\n",
    "\n",
    "# Mejor combinación de hiperparámetros\n",
    "print(\"Mejores parámetros para Random Forest:\", grid_search_rf.best_params_)\n",
    "# Accuracy en el conjunto de validación\n",
    "print(\"Accuracy en el conjunto de validación:\", grid_search_rf.score(X_val[selected_features], y_val))\n",
    "# Matriz de confusión en el conjunto de validación\n",
    "print(\"Matriz de confusión en el conjunto de validación:\")\n",
    "print(confusion_matrix(y_val, grid_search_rf.predict(X_val[selected_features])))"
   ]
  },
  {
   "cell_type": "code",
   "execution_count": 56,
   "metadata": {},
   "outputs": [
    {
     "name": "stdout",
     "output_type": "stream",
     "text": [
      "Reporte de clasificación en el conjunto de validación:\n",
      "              precision    recall  f1-score   support\n",
      "\n",
      "           0       0.65      0.43      0.52       363\n",
      "           1       0.90      0.96      0.93      1999\n",
      "\n",
      "    accuracy                           0.88      2362\n",
      "   macro avg       0.77      0.69      0.72      2362\n",
      "weighted avg       0.86      0.88      0.87      2362\n",
      "\n"
     ]
    }
   ],
   "source": [
    "print(\"Reporte de clasificación en el conjunto de validación:\")\n",
    "print(classification_report(y_val, grid_search_rf.predict(X_val[selected_features])))"
   ]
  },
  {
   "cell_type": "code",
   "execution_count": 8,
   "metadata": {},
   "outputs": [
    {
     "data": {
      "text/html": [
       "<style>#sk-container-id-1 {color: black;}#sk-container-id-1 pre{padding: 0;}#sk-container-id-1 div.sk-toggleable {background-color: white;}#sk-container-id-1 label.sk-toggleable__label {cursor: pointer;display: block;width: 100%;margin-bottom: 0;padding: 0.3em;box-sizing: border-box;text-align: center;}#sk-container-id-1 label.sk-toggleable__label-arrow:before {content: \"▸\";float: left;margin-right: 0.25em;color: #696969;}#sk-container-id-1 label.sk-toggleable__label-arrow:hover:before {color: black;}#sk-container-id-1 div.sk-estimator:hover label.sk-toggleable__label-arrow:before {color: black;}#sk-container-id-1 div.sk-toggleable__content {max-height: 0;max-width: 0;overflow: hidden;text-align: left;background-color: #f0f8ff;}#sk-container-id-1 div.sk-toggleable__content pre {margin: 0.2em;color: black;border-radius: 0.25em;background-color: #f0f8ff;}#sk-container-id-1 input.sk-toggleable__control:checked~div.sk-toggleable__content {max-height: 200px;max-width: 100%;overflow: auto;}#sk-container-id-1 input.sk-toggleable__control:checked~label.sk-toggleable__label-arrow:before {content: \"▾\";}#sk-container-id-1 div.sk-estimator input.sk-toggleable__control:checked~label.sk-toggleable__label {background-color: #d4ebff;}#sk-container-id-1 div.sk-label input.sk-toggleable__control:checked~label.sk-toggleable__label {background-color: #d4ebff;}#sk-container-id-1 input.sk-hidden--visually {border: 0;clip: rect(1px 1px 1px 1px);clip: rect(1px, 1px, 1px, 1px);height: 1px;margin: -1px;overflow: hidden;padding: 0;position: absolute;width: 1px;}#sk-container-id-1 div.sk-estimator {font-family: monospace;background-color: #f0f8ff;border: 1px dotted black;border-radius: 0.25em;box-sizing: border-box;margin-bottom: 0.5em;}#sk-container-id-1 div.sk-estimator:hover {background-color: #d4ebff;}#sk-container-id-1 div.sk-parallel-item::after {content: \"\";width: 100%;border-bottom: 1px solid gray;flex-grow: 1;}#sk-container-id-1 div.sk-label:hover label.sk-toggleable__label {background-color: #d4ebff;}#sk-container-id-1 div.sk-serial::before {content: \"\";position: absolute;border-left: 1px solid gray;box-sizing: border-box;top: 0;bottom: 0;left: 50%;z-index: 0;}#sk-container-id-1 div.sk-serial {display: flex;flex-direction: column;align-items: center;background-color: white;padding-right: 0.2em;padding-left: 0.2em;position: relative;}#sk-container-id-1 div.sk-item {position: relative;z-index: 1;}#sk-container-id-1 div.sk-parallel {display: flex;align-items: stretch;justify-content: center;background-color: white;position: relative;}#sk-container-id-1 div.sk-item::before, #sk-container-id-1 div.sk-parallel-item::before {content: \"\";position: absolute;border-left: 1px solid gray;box-sizing: border-box;top: 0;bottom: 0;left: 50%;z-index: -1;}#sk-container-id-1 div.sk-parallel-item {display: flex;flex-direction: column;z-index: 1;position: relative;background-color: white;}#sk-container-id-1 div.sk-parallel-item:first-child::after {align-self: flex-end;width: 50%;}#sk-container-id-1 div.sk-parallel-item:last-child::after {align-self: flex-start;width: 50%;}#sk-container-id-1 div.sk-parallel-item:only-child::after {width: 0;}#sk-container-id-1 div.sk-dashed-wrapped {border: 1px dashed gray;margin: 0 0.4em 0.5em 0.4em;box-sizing: border-box;padding-bottom: 0.4em;background-color: white;}#sk-container-id-1 div.sk-label label {font-family: monospace;font-weight: bold;display: inline-block;line-height: 1.2em;}#sk-container-id-1 div.sk-label-container {text-align: center;}#sk-container-id-1 div.sk-container {/* jupyter's `normalize.less` sets `[hidden] { display: none; }` but bootstrap.min.css set `[hidden] { display: none !important; }` so we also need the `!important` here to be able to override the default hidden behavior on the sphinx rendered scikit-learn.org. See: https://github.com/scikit-learn/scikit-learn/issues/21755 */display: inline-block !important;position: relative;}#sk-container-id-1 div.sk-text-repr-fallback {display: none;}</style><div id=\"sk-container-id-1\" class=\"sk-top-container\"><div class=\"sk-text-repr-fallback\"><pre>RFE(estimator=SVC(kernel=&#x27;linear&#x27;), n_features_to_select=15)</pre><b>In a Jupyter environment, please rerun this cell to show the HTML representation or trust the notebook. <br />On GitHub, the HTML representation is unable to render, please try loading this page with nbviewer.org.</b></div><div class=\"sk-container\" hidden><div class=\"sk-item sk-dashed-wrapped\"><div class=\"sk-label-container\"><div class=\"sk-label sk-toggleable\"><input class=\"sk-toggleable__control sk-hidden--visually\" id=\"sk-estimator-id-1\" type=\"checkbox\" ><label for=\"sk-estimator-id-1\" class=\"sk-toggleable__label sk-toggleable__label-arrow\">RFE</label><div class=\"sk-toggleable__content\"><pre>RFE(estimator=SVC(kernel=&#x27;linear&#x27;), n_features_to_select=15)</pre></div></div></div><div class=\"sk-parallel\"><div class=\"sk-parallel-item\"><div class=\"sk-item\"><div class=\"sk-label-container\"><div class=\"sk-label sk-toggleable\"><input class=\"sk-toggleable__control sk-hidden--visually\" id=\"sk-estimator-id-2\" type=\"checkbox\" ><label for=\"sk-estimator-id-2\" class=\"sk-toggleable__label sk-toggleable__label-arrow\">estimator: SVC</label><div class=\"sk-toggleable__content\"><pre>SVC(kernel=&#x27;linear&#x27;)</pre></div></div></div><div class=\"sk-serial\"><div class=\"sk-item\"><div class=\"sk-estimator sk-toggleable\"><input class=\"sk-toggleable__control sk-hidden--visually\" id=\"sk-estimator-id-3\" type=\"checkbox\" ><label for=\"sk-estimator-id-3\" class=\"sk-toggleable__label sk-toggleable__label-arrow\">SVC</label><div class=\"sk-toggleable__content\"><pre>SVC(kernel=&#x27;linear&#x27;)</pre></div></div></div></div></div></div></div></div></div></div>"
      ],
      "text/plain": [
       "RFE(estimator=SVC(kernel='linear'), n_features_to_select=15)"
      ]
     },
     "execution_count": 8,
     "metadata": {},
     "output_type": "execute_result"
    }
   ],
   "source": [
    "# rfe para svc\n",
    "from sklearn.svm import SVC\n",
    "svc = SVC(kernel='linear')\n",
    "rfe = RFE(estimator=svc, n_features_to_select=15)\n",
    "rfe.fit(X_train, y_train)"
   ]
  },
  {
   "cell_type": "code",
   "execution_count": 9,
   "metadata": {},
   "outputs": [
    {
     "name": "stdout",
     "output_type": "stream",
     "text": [
      "Características seleccionadas con RFE: Index(['country_Azerbaijan', 'country_Other', 'country_T.C.', 'sex',\n",
      "       'station_Spring', 'station_Summer', 'station_Winter',\n",
      "       'fever_temperature', 'runny_nose', 'shortness_of_breath', 'chest_pain',\n",
      "       'headache', 'muscle_aches', 'joint_pain', 'vomiting_nausea'],\n",
      "      dtype='object')\n"
     ]
    }
   ],
   "source": [
    "# Ver las características seleccionadas\n",
    "selected_features = X_train.columns[rfe.support_]\n",
    "print(\"Características seleccionadas con RFE:\", selected_features)"
   ]
  },
  {
   "cell_type": "code",
   "execution_count": 10,
   "metadata": {},
   "outputs": [
    {
     "name": "stdout",
     "output_type": "stream",
     "text": [
      "Mejores parámetros para SVM: {'C': 1, 'gamma': 0.1, 'kernel': 'rbf'}\n",
      "Accuracy en el conjunto de validación: 0.7722269263336156\n",
      "Matriz de confusión en el conjunto de validación:\n",
      "[[ 217  146]\n",
      " [ 392 1607]]\n",
      "Reporte de clasificación en el conjunto de validación:\n",
      "              precision    recall  f1-score   support\n",
      "\n",
      "           0       0.36      0.60      0.45       363\n",
      "           1       0.92      0.80      0.86      1999\n",
      "\n",
      "    accuracy                           0.77      2362\n",
      "   macro avg       0.64      0.70      0.65      2362\n",
      "weighted avg       0.83      0.77      0.79      2362\n",
      "\n"
     ]
    }
   ],
   "source": [
    "# import svm\n",
    "from sklearn.svm import SVC\n",
    "\n",
    "# Definir los hiperparámetros para GridSearch\n",
    "param_grid_svm = {\n",
    "    'C': [0.1, 1],  # Parámetro de regularización\n",
    "    'gamma': [1, 0.1, 0.01],  # Coeficiente del kernel\n",
    "    'kernel': ['rbf']  # Kernel\n",
    "}\n",
    "\n",
    "# GridSearchCV para SVM\n",
    "grid_search_svm = GridSearchCV(estimator=SVC(class_weight='balanced'), param_grid=param_grid_svm, cv=5, scoring='accuracy', n_jobs=-1)\n",
    "grid_search_svm.fit(X_train[selected_features], y_train)  # Utilizando las características seleccionadas\n",
    "\n",
    "# Mejor combinación de hiperparámetros\n",
    "print(\"Mejores parámetros para SVM:\", grid_search_svm.best_params_)\n",
    "\n",
    "# Accuracy en el conjunto de validación\n",
    "print(\"Accuracy en el conjunto de validación:\", grid_search_svm.score(X_val[selected_features], y_val))\n",
    "\n",
    "# Matriz de confusión en el conjunto de validación\n",
    "print(\"Matriz de confusión en el conjunto de validación:\")\n",
    "print(confusion_matrix(y_val, grid_search_svm.predict(X_val[selected_features])))\n",
    "\n",
    "# Reporte de clasificación en el conjunto de validación\n",
    "print(\"Reporte de clasificación en el conjunto de validación:\")\n",
    "print(classification_report(y_val, grid_search_svm.predict(X_val[selected_features])))"
   ]
  }
 ],
 "metadata": {
  "kernelspec": {
   "display_name": "Python 3",
   "language": "python",
   "name": "python3"
  },
  "language_info": {
   "codemirror_mode": {
    "name": "ipython",
    "version": 3
   },
   "file_extension": ".py",
   "mimetype": "text/x-python",
   "name": "python",
   "nbconvert_exporter": "python",
   "pygments_lexer": "ipython3",
   "version": "3.9.6"
  }
 },
 "nbformat": 4,
 "nbformat_minor": 2
}
