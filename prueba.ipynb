{
 "cells": [
  {
   "cell_type": "code",
   "execution_count": 2,
   "metadata": {},
   "outputs": [],
   "source": [
    "import pandas as pd\n",
    "import numpy as np\n",
    "import psycopg2"
   ]
  },
  {
   "cell_type": "code",
   "execution_count": 3,
   "metadata": {},
   "outputs": [
    {
     "name": "stdout",
     "output_type": "stream",
     "text": [
      "Conectado a Supabase.\n"
     ]
    }
   ],
   "source": [
    "# Datos de conexión de Supabase\n",
    "host = \"aws-0-us-east-1.pooler.supabase.com\"\n",
    "user = \"postgres.bfpvgfrvcwmresxlsium\"\n",
    "password = \"jExls2hLZ0Wvyjbt\"\n",
    "dbname = \"postgres\"\n",
    "\n",
    "# Conectar a la base de datos PostgreSQL en Supabase\n",
    "conn = psycopg2.connect(\n",
    "    host=host,\n",
    "    user=user,\n",
    "    password=password,\n",
    "    dbname=dbname\n",
    ")\n",
    "cursor = conn.cursor()\n",
    "\n",
    "print(\"Conectado a Supabase.\")"
   ]
  },
  {
   "cell_type": "code",
   "execution_count": 4,
   "metadata": {},
   "outputs": [
    {
     "name": "stderr",
     "output_type": "stream",
     "text": [
      "C:\\Users\\javip\\AppData\\Local\\Temp\\ipykernel_34388\\2327449472.py:3: UserWarning: pandas only supports SQLAlchemy connectable (engine/connection) or database string URI or sqlite3 DBAPI2 connection. Other DBAPI2 objects are not tested. Please consider using SQLAlchemy.\n",
      "  df = pd.read_sql_query(query, conn)\n"
     ]
    }
   ],
   "source": [
    "# get database from supabase and convert to pandas dataframe\n",
    "query = \"SELECT * FROM hospital1\"\n",
    "df = pd.read_sql_query(query, conn)"
   ]
  }
 ],
 "metadata": {
  "kernelspec": {
   "display_name": "Python 3",
   "language": "python",
   "name": "python3"
  },
  "language_info": {
   "codemirror_mode": {
    "name": "ipython",
    "version": 3
   },
   "file_extension": ".py",
   "mimetype": "text/x-python",
   "name": "python",
   "nbconvert_exporter": "python",
   "pygments_lexer": "ipython3",
   "version": "3.9.6"
  }
 },
 "nbformat": 4,
 "nbformat_minor": 2
}
